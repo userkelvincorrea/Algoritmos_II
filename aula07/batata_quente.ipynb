{
 "cells": [
  {
   "cell_type": "code",
   "execution_count": 5,
   "id": "93f19ccb-d7fa-41e3-b9e7-ef1e77c5a223",
   "metadata": {},
   "outputs": [],
   "source": [
    "# Implementação da classe Fila\n",
    "class Queue:\n",
    "    # Inicia com uma fila vazia\n",
    "    def __init__(self):\n",
    "        self.itens = []\n",
    "        \n",
    "    # Verifica se fila está vazia\n",
    "    def is_empty(self):\n",
    "        return self.itens == []\n",
    "        \n",
    "    # Adiciona elemento no início da fila\n",
    "    def enqueue(self, item):\n",
    "        self.itens.insert(0, item)\n",
    "        print('ENQUEUE %s' %item)\n",
    "        \n",
    "    # Remove elemento do final da fila\n",
    "    def dequeue(self):\n",
    "        print('DEQUEUE')\n",
    "        return self.itens.pop()\n",
    "        \n",
    "    # Retorna o número de elementos da fila\n",
    "    def size(self):\n",
    "        return len(self.itens)\n",
    "        \n",
    "    # Imprime a fila na tela\n",
    "    def print_queue(self):\n",
    "        print(self.itens)"
   ]
  },
  {
   "cell_type": "code",
   "execution_count": 7,
   "id": "515c0b25-39cf-490e-82a3-2a2da6713ff0",
   "metadata": {},
   "outputs": [],
   "source": [
    "# TESTE\n",
    "\n"
   ]
  },
  {
   "cell_type": "code",
   "execution_count": 25,
   "id": "cd2f907b-ad48-48b5-adf7-8b1e180ace99",
   "metadata": {},
   "outputs": [
    {
     "name": "stdin",
     "output_type": "stream",
     "text": [
      "Digite quantas voltas:  10\n"
     ]
    },
    {
     "name": "stdout",
     "output_type": "stream",
     "text": [
      "ENQUEUE João\n"
     ]
    },
    {
     "ename": "NameError",
     "evalue": "name 'fila' is not defined",
     "output_type": "error",
     "traceback": [
      "\u001b[1;31m---------------------------------------------------------------------------\u001b[0m",
      "\u001b[1;31mNameError\u001b[0m                                 Traceback (most recent call last)",
      "Cell \u001b[1;32mIn[25], line 16\u001b[0m\n\u001b[0;32m     14\u001b[0m criancas \u001b[38;5;241m=\u001b[39m [\u001b[38;5;124m'\u001b[39m\u001b[38;5;124mJoão\u001b[39m\u001b[38;5;124m'\u001b[39m, \u001b[38;5;124m'\u001b[39m\u001b[38;5;124mMaria\u001b[39m\u001b[38;5;124m'\u001b[39m, \u001b[38;5;124m'\u001b[39m\u001b[38;5;124mPedro\u001b[39m\u001b[38;5;124m'\u001b[39m]\n\u001b[0;32m     15\u001b[0m n \u001b[38;5;241m=\u001b[39m \u001b[38;5;28mint\u001b[39m(\u001b[38;5;28minput\u001b[39m(\u001b[38;5;124m\"\u001b[39m\u001b[38;5;124mDigite quantas voltas: \u001b[39m\u001b[38;5;124m\"\u001b[39m))\n\u001b[1;32m---> 16\u001b[0m pessoa \u001b[38;5;241m=\u001b[39m batata_quente(n, criancas)\n\u001b[0;32m     17\u001b[0m \u001b[38;5;28mprint\u001b[39m(\u001b[38;5;124mF\u001b[39m\u001b[38;5;124m\"\u001b[39m\u001b[38;5;124mQuem ganhou foi: \u001b[39m\u001b[38;5;132;01m{\u001b[39;00mpessoa\u001b[38;5;132;01m}\u001b[39;00m\u001b[38;5;124m\"\u001b[39m)\n",
      "Cell \u001b[1;32mIn[25], line 5\u001b[0m, in \u001b[0;36mbatata_quente\u001b[1;34m(max, nomes)\u001b[0m\n\u001b[0;32m      3\u001b[0m \u001b[38;5;28;01mfor\u001b[39;00m nome \u001b[38;5;129;01min\u001b[39;00m nomes:\n\u001b[0;32m      4\u001b[0m     Fila\u001b[38;5;241m.\u001b[39menqueue(nome)\n\u001b[1;32m----> 5\u001b[0m     \u001b[38;5;28;01mwhile\u001b[39;00m fila\u001b[38;5;241m.\u001b[39msize() \u001b[38;5;241m>\u001b[39m \u001b[38;5;241m1\u001b[39m:\n\u001b[0;32m      6\u001b[0m         \u001b[38;5;28;01mfor\u001b[39;00m i \u001b[38;5;129;01min\u001b[39;00m \u001b[38;5;28mrange\u001b[39m(\u001b[38;5;28mmax\u001b[39m):\n\u001b[0;32m      7\u001b[0m             Fila\u001b[38;5;241m.\u001b[39menqueue(Fila\u001b[38;5;241m.\u001b[39mdequeue())\n",
      "\u001b[1;31mNameError\u001b[0m: name 'fila' is not defined"
     ]
    }
   ],
   "source": [
    "def batata_quente(max, nomes):\n",
    "    Fila = Queue()\n",
    "    for nome in nomes:\n",
    "        Fila.enqueue(nome)\n",
    "        while fila.size() > 1:\n",
    "            for i in range(max):\n",
    "                Fila.enqueue(Fila.dequeue())\n",
    "                ganhador = Fila.dequeue()\n",
    "                return Fila.dequeue()\n",
    "                return ganhador\n",
    "    \n",
    "        \n",
    "\n",
    "criancas = ['João', 'Maria', 'Pedro']\n",
    "n = int(input(\"Digite quantas voltas: \"))\n",
    "pessoa = batata_quente(n, criancas)\n",
    "print(F\"Quem ganhou foi: {pessoa}\")"
   ]
  },
  {
   "cell_type": "code",
   "execution_count": null,
   "id": "05cf77ed-d1f3-4673-9e23-6e5392e6ae03",
   "metadata": {},
   "outputs": [],
   "source": []
  }
 ],
 "metadata": {
  "kernelspec": {
   "display_name": "Python [conda env:base] *",
   "language": "python",
   "name": "conda-base-py"
  },
  "language_info": {
   "codemirror_mode": {
    "name": "ipython",
    "version": 3
   },
   "file_extension": ".py",
   "mimetype": "text/x-python",
   "name": "python",
   "nbconvert_exporter": "python",
   "pygments_lexer": "ipython3",
   "version": "3.12.7"
  }
 },
 "nbformat": 4,
 "nbformat_minor": 5
}
