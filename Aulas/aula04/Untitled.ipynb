{
 "cells": [
  {
   "cell_type": "code",
   "execution_count": 17,
   "id": "cbce4b50-5ce8-4455-bfe8-cd042e15fe15",
   "metadata": {},
   "outputs": [],
   "source": [
    "def busca_binaria (v, lista_ordenada):\n",
    "    esquerda = 0\n",
    "    direita = len(lista_ordenada) -1\n",
    "\n",
    "    while esquerda <= direita:\n",
    "       meio = (esquerda + direita) // 2\n",
    "    if lista_ordenada[meio] == V:\n",
    "        return meio\n",
    "    elif lista_ordenada[meio] < V:\n",
    "        direita = meio - 1\n",
    "    else:\n",
    "        esquerda = meio + 1\n",
    "\n",
    "    return -1\n",
    "        \n",
    "        "
   ]
  },
  {
   "cell_type": "code",
   "execution_count": null,
   "id": "b78eccd5-3c2a-49f4-893d-13f847728bf0",
   "metadata": {},
   "outputs": [
    {
     "name": "stdin",
     "output_type": "stream",
     "text": [
      "digite um valor:  5\n"
     ]
    }
   ],
   "source": [
    "lista = [2,4,6,8,10,12,14,16,18,20]\n",
    "v = int(input(\"digite um valor: \"))\n",
    "i = busca_binaria(v, lista)\n",
    "\n",
    "if i == -1:\n",
    "    print(\"O valor não existe na lista!\")\n",
    "else:\n",
    "    print(f\"O valor na lista está na posição: {i}\")\n",
    "    "
   ]
  },
  {
   "cell_type": "code",
   "execution_count": null,
   "id": "98d8f670-8275-4300-aac8-b01cff068e0d",
   "metadata": {},
   "outputs": [],
   "source": []
  }
 ],
 "metadata": {
  "kernelspec": {
   "display_name": "Python [conda env:base] *",
   "language": "python",
   "name": "conda-base-py"
  },
  "language_info": {
   "codemirror_mode": {
    "name": "ipython",
    "version": 3
   },
   "file_extension": ".py",
   "mimetype": "text/x-python",
   "name": "python",
   "nbconvert_exporter": "python",
   "pygments_lexer": "ipython3",
   "version": "3.12.7"
  }
 },
 "nbformat": 4,
 "nbformat_minor": 5
}
